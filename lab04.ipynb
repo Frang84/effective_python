{
 "cells": [
  {
   "cell_type": "markdown",
   "metadata": {},
   "source": [
    "## Lab 04"
   ]
  },
  {
   "cell_type": "markdown",
   "metadata": {},
   "source": [
    "## Zadanie 1 (Igor Sieradzki)"
   ]
  },
  {
   "cell_type": "markdown",
   "metadata": {},
   "source": [
    "Funkcja <t>flow_rate</i> do modyfikacji"
   ]
  },
  {
   "cell_type": "code",
   "execution_count": 13,
   "metadata": {
    "collapsed": true
   },
   "outputs": [],
   "source": [
    "def flow_rate(weight, time, *, period = 1, units_per_kg = 1):\n",
    "    \"\"\" Funkcja wylicza ile wagi produktu przybyło/ubyło w jednostce czasu \"\"\"\n",
    "    weight *= units_per_kg\n",
    "    time *= period\n",
    "    return weight / time\n",
    "\n",
    "weight = 0.5\n",
    "time = 3"
   ]
  },
  {
   "cell_type": "code",
   "execution_count": 14,
   "metadata": {
    "collapsed": true
   },
   "outputs": [
    {
     "name": "stdout",
     "output_type": "stream",
     "text": [
      "0.167 kg per second\n"
     ]
    }
   ],
   "source": [
    "flow = flow_rate(weight, time)\n",
    "print(\"{0:.3} kg per second\".format(flow))"
   ]
  },
  {
   "cell_type": "code",
   "execution_count": null,
   "metadata": {
    "collapsed": true
   },
   "outputs": [],
   "source": [
    "#Zmodyfikuj funckje <i>flow_rate</i> tak, aby poniższe wywołania działały poprawnie."
   ]
  },
  {
   "cell_type": "code",
   "execution_count": 15,
   "metadata": {
    "collapsed": true
   },
   "outputs": [
    {
     "name": "stdout",
     "output_type": "stream",
     "text": [
      "2.7777777777777777 grams per minute\n"
     ]
    }
   ],
   "source": [
    "flow = flow_rate(weight, time, period=60, units_per_kg=1000)\n",
    "print(\"{} grams per minute\".format(flow))"
   ]
  },
  {
   "cell_type": "code",
   "execution_count": 16,
   "metadata": {
    "collapsed": true
   },
   "outputs": [
    {
     "name": "stdout",
     "output_type": "stream",
     "text": [
      "0.167 kg per second\n"
     ]
    }
   ],
   "source": [
    "flow = flow_rate(weight, time, period=1, units_per_kg=1)\n",
    "print(\"{0:.3} kg per second\".format(flow))"
   ]
  },
  {
   "cell_type": "code",
   "execution_count": 17,
   "metadata": {
    "collapsed": true
   },
   "outputs": [
    {
     "name": "stdout",
     "output_type": "stream",
     "text": [
      "0.167 grams per minute\n"
     ]
    }
   ],
   "source": [
    "flow = flow_rate(weight, time)\n",
    "print(\"{0:.3} grams per minute\".format(flow))"
   ]
  },
  {
   "cell_type": "markdown",
   "metadata": {},
   "source": [
    "Wyjaśnić czemu poniższe rzucanie błędu jest porządane"
   ]
  },
  {
   "cell_type": "code",
   "execution_count": null,
   "metadata": {
    "collapsed": true
   },
   "outputs": [
    {
     "name": "stdout",
     "output_type": "stream",
     "text": [
      "True\n"
     ]
    }
   ],
   "source": [
    "try:\n",
    "    flow = flow_rate(weight, time, 3600, 2.2)\n",
    "except TypeError:\n",
    "    print(True)\n"
   ]
  },
  {
   "cell_type": "markdown",
   "metadata": {},
   "source": [
    "## Zadanie 2 (Igor Sieradzki)"
   ]
  },
  {
   "cell_type": "markdown",
   "metadata": {},
   "source": [
    "Dopisz definicje dekoratora _timeit_, który wypisze na wyjscie standardowe czas wywołania udekorowanej funckji np.\n",
    "\n",
    "```\n",
    "@timeit\n",
    "def foo(x):\n",
    "    return x**2\n",
    "    \n",
    "r = foo(2)\n",
    "```\n",
    "wypize: <br>\n",
    "    `Function foo took: 0.00001 seconds` <br>\n",
    "oraz zwróci 4"
   ]
  },
  {
   "cell_type": "code",
   "execution_count": 6,
   "metadata": {
    "collapsed": true
   },
   "outputs": [
    {
     "name": "stdout",
     "output_type": "stream",
     "text": [
      "function squares_list took 0.1001744270324707 seconds\n",
      "function squares_comprehension took 0.09201717376708984 seconds\n",
      "function squares_map took 0.0 seconds\n"
     ]
    }
   ],
   "source": [
    "import time\n",
    "import timeit\n",
    "\n",
    "def timeit(func):\n",
    "    \"\"\" Wypisuje czas wywołania udekorowanej funckji \"\"\"\n",
    "    def wrapper(*args, **kwargs): \n",
    "        start = time.time()\n",
    "        func(*args, **kwargs)\n",
    "        stop = time.time()\n",
    "        print(f\"function {func.__name__} took {stop - start} seconds\")\n",
    "    return wrapper\n",
    "\n",
    "@timeit\n",
    "def squares_list(n):\n",
    "    squares = []\n",
    "    for i in range(n):\n",
    "        squares.append(i ** 2)\n",
    "    return squares\n",
    "\n",
    "@timeit\n",
    "def squares_comprehension(n):\n",
    "    return [i ** 2 for i in range(n)]\n",
    "\n",
    "@timeit\n",
    "def squares_map(n):\n",
    "    return map(lambda x: x**2, range(n))\n",
    "\n",
    "n = 1000000\n",
    "l = squares_list(n)\n",
    "c = squares_comprehension(n)\n",
    "m = squares_map(n)"
   ]
  },
  {
   "cell_type": "markdown",
   "metadata": {},
   "source": [
    "## Zadanie 3 (Igor Sieradzki)"
   ]
  },
  {
   "cell_type": "markdown",
   "metadata": {},
   "source": [
    "Dopisz definicje dekoratora _derivate_ wg. instrukcji w _docstringu_"
   ]
  },
  {
   "cell_type": "code",
   "execution_count": 6,
   "metadata": {
    "collapsed": true
   },
   "outputs": [
    {
     "name": "stdout",
     "output_type": "stream",
     "text": [
      "True\n",
      "True\n",
      "True\n",
      "True\n",
      "1092.8304259723518 1092.8204259751308 \t True\n",
      "895692.3723220824 895692.3625713498 \t True\n",
      "923.6544238723582 923.644423874058 \t True\n",
      "639839.2781615257 639839.2663152304 \t True\n",
      "417.88147813349497 417.8714781340629 \t True\n",
      "130962.43534237145 130962.42917845996 \t True\n",
      "1022.4133792886278 1022.4033792890874 \t True\n",
      "783981.5169572829 783981.5024863092 \t True\n",
      "1670.0928105739877 1670.0828105760272 \t True\n",
      "2091882.4672698972 2091882.4456361416 \t True\n",
      "617.3757585813291 617.3657585819703 \t True\n",
      "285855.3681522608 285855.3599021188 \t True\n",
      "1438.6450333637185 1438.6350333650985 \t True\n",
      "1552253.085374832 1552253.0694190485 \t True\n",
      "1849.8954347800463 1849.8854347729582 \t True\n",
      "2566557.1212768555 2566557.0913388524 \t True\n",
      "780.0848813378252 780.0748813401674 \t True\n",
      "456387.62637972826 456387.6153734072 \t True\n",
      "1854.7803379944526 1854.7703379874335 \t True\n",
      "2580129.7903060913 2580129.7550085136 \t True\n",
      "1690.8447007182986 1690.8347007192076 \t True\n",
      "2144191.515445709 2144191.4888671595 \t False\n",
      "1454.2773475404829 1454.2673475489294 \t True\n",
      "1586170.1548099515 1586170.138610249 \t True\n",
      "482.84314406264457 482.8331440637539 \t True\n",
      "174845.89088708162 174845.8837548673 \t True\n",
      "1624.4467183831148 1624.4367183850406 \t True\n",
      "1979096.0073471067 1979095.98902817 \t True\n",
      "1432.6109003915917 1432.6009003905233 \t True\n",
      "1539259.0224742887 1539259.0048498036 \t True\n",
      "309.63018899346935 309.6201889938779 \t True\n",
      "71898.50066788495 71898.4960744535 \t False\n",
      "931.2717334425543 931.2617334423312 \t True\n",
      "650436.3253712654 650436.3121305116 \t True\n",
      "1743.1398592772894 1743.129859278144 \t True\n",
      "2278876.292705536 2278876.279730282 \t True\n",
      "1362.0279604336247 1362.0179604393998 \t True\n",
      "1391319.7100162506 1391319.693419627 \t True\n",
      "1264.339904586086 1264.3299045874835 \t True\n",
      "1198897.597193718 1198897.5807256463 \t True\n"
     ]
    }
   ],
   "source": [
    "import sys\n",
    "sys.float_info.epsilon # epsilon maszynowy\n",
    "\n",
    "\n",
    "def derivate(epsilon=None):\n",
    "    \"\"\"\n",
    "    Zwraca pochodną funkcji w punkcie, wg. wzoru f'(x) = [f(x+h) - f(x)]/h, \n",
    "    gdzie h jest parametrem dekoratora, jeśli nie zostanie podany, należy przyjąć 1000 * epsilon maszynowy\n",
    "    \"\"\"\n",
    "    if  epsilon == None : \n",
    "         epsilon = sys.float_info.epsilon\n",
    "         return epsilon\n",
    "    def inner(func):\n",
    "        def wrapper(x):\n",
    "            #czemu to nie dziala skoro w pythonie sa function closures??? \n",
    "            nonlocal epsilon\n",
    "            return (func(x + epsilon) - func(x)) / epsilon\n",
    "        return wrapper\n",
    "    return inner\n",
    "\n",
    "\n",
    "\n",
    "@derivate(0.01)\n",
    "def f(x):\n",
    "    return x*x\n",
    "\n",
    "@derivate(0.00001)\n",
    "def g(x):\n",
    "    return x*x*x+3\n",
    "\n",
    "def test(a, b, eps=1):\n",
    "    return abs(round(a)-round(b)) < eps\n",
    "\n",
    "print(test(f(100), 200.0))\n",
    "print(round(f(0)) == 0.0)\n",
    "\n",
    "print(test(g(100), 30000.0))\n",
    "print(round(g(0)) == 0.0)\n",
    "\n",
    "from random import random\n",
    "for x in [random()*1000. for _ in range(20)]:\n",
    "    print(f(x), 2*x, '\\t', test(f(x), 2*x))\n",
    "    print(g(x), 3*x**2, '\\t', test(g(x), 3*x**2))"
   ]
  },
  {
   "cell_type": "markdown",
   "metadata": {},
   "source": [
    "## Zadanie 4 (Igor Sieradzki)"
   ]
  },
  {
   "cell_type": "markdown",
   "metadata": {},
   "source": [
    "Dopisz definicje dekoratora _accepts_ wg. instrukcji w _docstringu_"
   ]
  },
  {
   "cell_type": "code",
   "execution_count": 65,
   "metadata": {
    "collapsed": true
   },
   "outputs": [
    {
     "name": "stdout",
     "output_type": "stream",
     "text": [
      "True\n",
      "True\n",
      "True\n",
      "True\n",
      "True\n",
      "True\n",
      "True\n"
     ]
    }
   ],
   "source": [
    "def accepts(*types):\n",
    "    \"\"\"Sprawdza czy udekorowanej funckji zostały podane odpowiednie parametry zdefiniowane \n",
    "       w argumentach dekoratora\"\"\"\n",
    "    def inner(func): \n",
    "        def wraper(*args, **kwargs):  \n",
    "            dTypes = list(types)\n",
    "            fTypes = list(args)\n",
    "            fTypes2 = dict(kwargs)\n",
    "            if len(dTypes) != len(fTypes) + len(fTypes2): \n",
    "                raise TypeError(\"decorator and function have diffrent types\")\n",
    "            i = 0\n",
    "            while i in range(len(fTypes)): \n",
    "                if dTypes[i] != type(fTypes[i]) : \n",
    "                    raise TypeError('\"decorator and function have diffrent types\"')\n",
    "                i += 1 \n",
    "            for v in fTypes2.values() :\n",
    "                if dTypes[i] != type(v) : \n",
    "                    raise TypeError('\"decorator and function have diffrent types\"')\n",
    "                i += 1 \n",
    "            return func(*args,**kwargs)\n",
    "        return wraper\n",
    "    return inner\n",
    "    \n",
    "\n",
    "\n",
    "@accepts(str)\n",
    "def capitalize(word):\n",
    "    return word[0].upper() + word[1:]\n",
    "\n",
    "print(capitalize('ola') == 'Ola')\n",
    "\n",
    "try:\n",
    "    capitalize(2)\n",
    "except TypeError:\n",
    "    print(True)\n",
    "\n",
    "@accepts(float, int)\n",
    "def static_pow(base, exp):\n",
    "    return base ** exp \n",
    "\n",
    "print(static_pow(2., 2) == 4.)\n",
    "print(static_pow(2., exp=2) == 4.)\n",
    "print(static_pow(base=2., exp=2) == 4.)\n",
    "\n",
    "try:\n",
    "    static_pow('x', 10)\n",
    "except TypeError:\n",
    "    print(True)\n",
    "    \n",
    "try:\n",
    "    static_pow(2, 2.2)\n",
    "except TypeError:\n",
    "    print(True)"
   ]
  },
  {
   "cell_type": "markdown",
   "metadata": {},
   "source": []
  },
  {
   "cell_type": "markdown",
   "metadata": {},
   "source": [
    "## Zadanie 5 (Igor Sieradzki)"
   ]
  },
  {
   "cell_type": "markdown",
   "metadata": {},
   "source": [
    "Dopisz definicje dekoratora _returns_ wg. instrukcji w _docstringu_"
   ]
  },
  {
   "cell_type": "code",
   "execution_count": 108,
   "metadata": {
    "collapsed": true
   },
   "outputs": [
    {
     "name": "stdout",
     "output_type": "stream",
     "text": [
      "True\n",
      "True\n",
      "True\n",
      "True\n"
     ]
    }
   ],
   "source": [
    "def returns(*types):\n",
    "    \"\"\"Sprawdza czy udekorowana funkcja zwraca poprawne argumenty, zdefiniowane w parametrach dekoratora\"\"\"\n",
    "    def decorator(func):\n",
    "        def wrapper(*args, **kwargs):\n",
    "            result = func(*args, **kwargs)  # Call the function\n",
    "            if not isinstance(result, tuple):\n",
    "                result = (result,)  # Convert non-tuples to a tuple for comparison\n",
    "            if len(result) != len(types):  # Check number of expected return values\n",
    "                raise TypeError(f\"Expected {len(types)} return values but got {len(result)}.\")\n",
    "            for r, t in zip(result, types):\n",
    "                if not isinstance(r, t):  # Check if each result matches the expected type\n",
    "                    raise TypeError(f\"Expected return type {t.__name__}, but got {type(r).__name__}.\")\n",
    "            if len(result) == 1:\n",
    "                return result[0]  # Return as the original function if it's a single return\n",
    "            return result  # Return the results\n",
    "        return wrapper\n",
    "    return decorator\n",
    "    \n",
    "\n",
    "\n",
    "@returns(str)\n",
    "def str_only_identity(word):\n",
    "    return word\n",
    "\n",
    "print(str_only_identity('hello') == 'hello')\n",
    "\n",
    "try:\n",
    "    str_only_identity(10)\n",
    "except TypeError:\n",
    "    print(True)\n",
    "    \n",
    "@returns(int, int)\n",
    "def split_indices(x):\n",
    "    return x[0], x[1]\n",
    "\n",
    "print(split_indices(x=[6,9]) == (6,9))\n",
    "\n",
    "try:\n",
    "    split_indices('AB')\n",
    "except TypeError:\n",
    "    print(True)"
   ]
  },
  {
   "cell_type": "markdown",
   "metadata": {},
   "source": [
    "## Zadanie 6 (Igor Sieradzki)\n",
    "Stwórz dekorator cached służący do cachowania wywołań dowolnej funkcji, tzn. chcemy by:\n",
    "* wywołanie funkcji z określonymi argumentami miało miejsce tylko raz\n",
    "* funkcja mogła przyjmować dowolną liczbę nazwanych i nienazwanych argumentów\n",
    "* nie musi reagować poprawnie na domyślne argumenty, tzn. wywołanie funkcji z domyślnymi argumentami a podanie dokładnie takich samych może być traktowane jako dwa różne wywołania\n",
    "* na opakowanej funkcji można wywołać `.cache_reset()`, który usunie cache z pamięci\n",
    "* wywołanie `.cache_status()` zwraca string z opisem w postaci: <br>\n",
    "    `Function FUNCTION_NAME called X times, evaluated Y times`"
   ]
  },
  {
   "cell_type": "code",
   "execution_count": 23,
   "metadata": {
    "collapsed": true
   },
   "outputs": [
    {
     "name": "stdout",
     "output_type": "stream",
     "text": [
      "True\n",
      "True\n",
      "True\n",
      "False\n",
      "True\n",
      "False\n"
     ]
    }
   ],
   "source": [
    "from random import random\n",
    "\n",
    "class Decorator : \n",
    "    def __init__(self, func) :\n",
    "        self.callsDict = dict() #key - argumenty, value - wynik \n",
    "        self.func = func\n",
    "        self.functionName = func.__name__\n",
    "        self.counter = 0\n",
    "        self.evaluatedCounter = 0\n",
    "    def __call__(self, *args, **kwargs): \n",
    "        self.counter += 1\n",
    "        tmpList = list()\n",
    "        for arg in args: \n",
    "            tmpList.append(arg)\n",
    "        sortedKwargs = dict(sorted(kwargs.items()))\n",
    "        for key, val in sortedKwargs.items(): \n",
    "            tmpList.append(val)\n",
    "        k = tuple(tmpList)\n",
    "        if k in self.callsDict:\n",
    "            return self.callsDict[k]\n",
    "        else: \n",
    "            self.evaluatedCounter += 1 \n",
    "            self.callsDict[tuple(tmpList)] = self.func(args, kwargs)\n",
    "            res = self.callsDict[tuple(tmpList)]\n",
    "            return res\n",
    "    def cache_status(self): \n",
    "        res = f\"Function {self.functionName} called {self.counter} times, evaluated {self.evaluatedCounter} times\"\n",
    "        return res\n",
    "    def cache_reset(self): \n",
    "        self.counter = 0\n",
    "        self.callsDict = dict()\n",
    "        self.evaluatedCounter = 0\n",
    "\n",
    "\n",
    "def cached(func):\n",
    "    decorator = Decorator(func)\n",
    "    func.cache_status = decorator.cache_status\n",
    "    func.cache_reset = decorator.cache_reset\n",
    "    return decorator\n",
    "\n",
    "\n",
    "\n",
    "\n",
    "@cached\n",
    "def foo(x, y=1, z=4):\n",
    "    return random()\n",
    "        \n",
    "print(foo(3) == foo(3))\n",
    "print(foo(4) == foo(4))\n",
    "print(foo(3, z=-1, y=3) == foo(3, y=3, z=-1))\n",
    "print(foo(3) != foo(x=3))\n",
    "a = foo(3)\n",
    "foo.cache_reset()\n",
    "print(a != foo(3))\n",
    "print(foo.cache_status() == 'Function foo called 10 times, evaluated 5 times')"
   ]
  },
  {
   "cell_type": "markdown",
   "metadata": {},
   "source": [
    "## Zadanie 7 (Krzysztof Hajto)"
   ]
  },
  {
   "cell_type": "markdown",
   "metadata": {},
   "source": [
    "Napisz dekorator który będzie robić n-krotne złożenie funkcji, gdzie n jest parametrem dekoratora"
   ]
  },
  {
   "cell_type": "code",
   "execution_count": null,
   "metadata": {
    "collapsed": true
   },
   "outputs": [
    {
     "name": "stdout",
     "output_type": "stream",
     "text": [
      "True\n",
      "True\n",
      "True\n"
     ]
    }
   ],
   "source": [
    "def zlozenie(n):\n",
    "    def inner(func): \n",
    "        def wraper(*args): \n",
    "            res = func(*args)\n",
    "            for i in range(1, n, 1):\n",
    "                res = func(res)\n",
    "            return res\n",
    "        return wraper \n",
    "    return inner \n",
    "                \n",
    "\n",
    "@zlozenie(3)\n",
    "def f1(x):\n",
    "    return x+1\n",
    "\n",
    "@zlozenie(2)\n",
    "def f2(x):\n",
    "    return x*x\n",
    "\n",
    "@zlozenie(5)\n",
    "def f3(word):\n",
    "    return \"\".join(chr(ord(l)+1) for l in word)\n",
    "\n",
    "print(f1(2)==5)\n",
    "print(f2(3)==81)\n",
    "print(f3(\"alamakota\")==\"fqfrfptyf\")"
   ]
  },
  {
   "cell_type": "markdown",
   "metadata": {},
   "source": [
    "## Zadanie 8 (Krzysztof Hajto)"
   ]
  },
  {
   "cell_type": "markdown",
   "metadata": {},
   "source": [
    "Python nie ma wbudowanej instrukcji switch. Ale posiada anonimowe funkcje oraz słowniki. Zaimplementuj poniższy switch w postaci słownika funkcji.\n",
    "`\n",
    "int my_function(x, y) {\n",
    "\n",
    "\n",
    "    switch(x) {\n",
    "        case 1: return y*y;\n",
    "        case 2: return x+y;\n",
    "        case 3: return x*y;\n",
    "        case 4: return 0;\n",
    "    }\n",
    "}\n",
    "`\n",
    "\n",
    "PS. Nigdy nie róbcie tego w faktycznym kodzie :)"
   ]
  },
  {
   "cell_type": "code",
   "execution_count": 8,
   "metadata": {
    "collapsed": true
   },
   "outputs": [
    {
     "name": "stdout",
     "output_type": "stream",
     "text": [
      "True\n",
      "True\n",
      "True\n",
      "True\n"
     ]
    }
   ],
   "source": [
    "def my_function(x, y):\n",
    "    switch = {\n",
    "        1 : lambda : y*y,\n",
    "        2 : lambda : x+y,\n",
    "        3 : lambda : x*y,\n",
    "        4 : lambda : 0\n",
    "    }\n",
    "    return switch[x]()\n",
    "\n",
    "print(my_function(1,3)==9)\n",
    "print(my_function(2,4)==6)\n",
    "print(my_function(3,1)==3)\n",
    "print(my_function(4,9)==0)"
   ]
  }
 ],
 "metadata": {
  "kernelspec": {
   "display_name": "Python 3",
   "language": "python",
   "name": "python3"
  },
  "language_info": {
   "codemirror_mode": {
    "name": "ipython",
    "version": 3
   },
   "file_extension": ".py",
   "mimetype": "text/x-python",
   "name": "python",
   "nbconvert_exporter": "python",
   "pygments_lexer": "ipython3",
   "version": "3.12.3"
  }
 },
 "nbformat": 4,
 "nbformat_minor": 2
}
