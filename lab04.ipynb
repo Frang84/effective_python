{
 "cells": [
  {
   "cell_type": "markdown",
   "metadata": {},
   "source": [
    "## Lab 04"
   ]
  },
  {
   "cell_type": "markdown",
   "metadata": {},
   "source": [
    "## Zadanie 1 (Igor Sieradzki)"
   ]
  },
  {
   "cell_type": "markdown",
   "metadata": {},
   "source": [
    "Funkcja <t>flow_rate</i> do modyfikacji"
   ]
  },
  {
   "cell_type": "code",
   "execution_count": 13,
   "metadata": {
    "collapsed": true
   },
   "outputs": [],
   "source": [
    "def flow_rate(weight, time, *, period = 1, units_per_kg = 1):\n",
    "    \"\"\" Funkcja wylicza ile wagi produktu przybyło/ubyło w jednostce czasu \"\"\"\n",
    "    weight *= units_per_kg\n",
    "    time *= period\n",
    "    return weight / time\n",
    "\n",
    "weight = 0.5\n",
    "time = 3"
   ]
  },
  {
   "cell_type": "code",
   "execution_count": 14,
   "metadata": {
    "collapsed": true
   },
   "outputs": [
    {
     "name": "stdout",
     "output_type": "stream",
     "text": [
      "0.167 kg per second\n"
     ]
    }
   ],
   "source": [
    "flow = flow_rate(weight, time)\n",
    "print(\"{0:.3} kg per second\".format(flow))"
   ]
  },
  {
   "cell_type": "code",
   "execution_count": null,
   "metadata": {
    "collapsed": true
   },
   "outputs": [],
   "source": [
    "#Zmodyfikuj funckje <i>flow_rate</i> tak, aby poniższe wywołania działały poprawnie."
   ]
  },
  {
   "cell_type": "code",
   "execution_count": 15,
   "metadata": {
    "collapsed": true
   },
   "outputs": [
    {
     "name": "stdout",
     "output_type": "stream",
     "text": [
      "2.7777777777777777 grams per minute\n"
     ]
    }
   ],
   "source": [
    "flow = flow_rate(weight, time, period=60, units_per_kg=1000)\n",
    "print(\"{} grams per minute\".format(flow))"
   ]
  },
  {
   "cell_type": "code",
   "execution_count": 16,
   "metadata": {
    "collapsed": true
   },
   "outputs": [
    {
     "name": "stdout",
     "output_type": "stream",
     "text": [
      "0.167 kg per second\n"
     ]
    }
   ],
   "source": [
    "flow = flow_rate(weight, time, period=1, units_per_kg=1)\n",
    "print(\"{0:.3} kg per second\".format(flow))"
   ]
  },
  {
   "cell_type": "code",
   "execution_count": 17,
   "metadata": {
    "collapsed": true
   },
   "outputs": [
    {
     "name": "stdout",
     "output_type": "stream",
     "text": [
      "0.167 grams per minute\n"
     ]
    }
   ],
   "source": [
    "flow = flow_rate(weight, time)\n",
    "print(\"{0:.3} grams per minute\".format(flow))"
   ]
  },
  {
   "cell_type": "markdown",
   "metadata": {},
   "source": [
    "Wyjaśnić czemu poniższe rzucanie błędu jest porządane"
   ]
  },
  {
   "cell_type": "code",
   "execution_count": 18,
   "metadata": {
    "collapsed": true
   },
   "outputs": [
    {
     "name": "stdout",
     "output_type": "stream",
     "text": [
      "True\n"
     ]
    }
   ],
   "source": [
    "try:\n",
    "    flow = flow_rate(weight, time, 3600, 2.2)\n",
    "except TypeError:\n",
    "    print(True)\n",
    "\"\"\" poniewaz musimy miec swiadomosc jakie parametry funkcji odpowiadaj za zmienne w kodzie funkcji \"\"\""
   ]
  },
  {
   "cell_type": "markdown",
   "metadata": {},
   "source": [
    "## Zadanie 2 (Igor Sieradzki)"
   ]
  },
  {
   "cell_type": "markdown",
   "metadata": {},
   "source": [
    "Dopisz definicje dekoratora _timeit_, który wypisze na wyjscie standardowe czas wywołania udekorowanej funckji np.\n",
    "\n",
    "```\n",
    "@timeit\n",
    "def foo(x):\n",
    "    return x**2\n",
    "    \n",
    "r = foo(2)\n",
    "```\n",
    "wypize: <br>\n",
    "    `Function foo took: 0.00001 seconds` <br>\n",
    "oraz zwróci 4"
   ]
  },
  {
   "cell_type": "code",
   "execution_count": 6,
   "metadata": {
    "collapsed": true
   },
   "outputs": [
    {
     "name": "stdout",
     "output_type": "stream",
     "text": [
      "function squares_list took 0.1001744270324707 seconds\n",
      "function squares_comprehension took 0.09201717376708984 seconds\n",
      "function squares_map took 0.0 seconds\n"
     ]
    }
   ],
   "source": [
    "import time\n",
    "import timeit\n",
    "\n",
    "def timeit(func):\n",
    "    \"\"\" Wypisuje czas wywołania udekorowanej funckji \"\"\"\n",
    "    def wrapper(*args, **kwargs): \n",
    "        start = time.time()\n",
    "        func(*args, **kwargs)\n",
    "        stop = time.time()\n",
    "        print(f\"function {func.__name__} took {stop - start} seconds\")\n",
    "    return wrapper\n",
    "\n",
    "@timeit\n",
    "def squares_list(n):\n",
    "    squares = []\n",
    "    for i in range(n):\n",
    "        squares.append(i ** 2)\n",
    "    return squares\n",
    "\n",
    "@timeit\n",
    "def squares_comprehension(n):\n",
    "    return [i ** 2 for i in range(n)]\n",
    "\n",
    "@timeit\n",
    "def squares_map(n):\n",
    "    return map(lambda x: x**2, range(n))\n",
    "\n",
    "n = 1000000\n",
    "l = squares_list(n)\n",
    "c = squares_comprehension(n)\n",
    "m = squares_map(n)"
   ]
  },
  {
   "cell_type": "markdown",
   "metadata": {},
   "source": [
    "## Zadanie 3 (Igor Sieradzki)"
   ]
  },
  {
   "cell_type": "markdown",
   "metadata": {},
   "source": [
    "Dopisz definicje dekoratora _derivate_ wg. instrukcji w _docstringu_"
   ]
  },
  {
   "cell_type": "code",
   "execution_count": 42,
   "metadata": {
    "collapsed": true
   },
   "outputs": [
    {
     "name": "stdout",
     "output_type": "stream",
     "text": [
      "True\n",
      "True\n",
      "True\n",
      "True\n",
      "1563.6946733342484 1563.6846733325453 \t True\n",
      "1833832.3354721067 1833832.3182113317 \t True\n",
      "1155.6695334787946 1155.659533477386 \t True\n",
      "1001661.7327928542 1001661.7179878771 \t True\n",
      "669.7713451067102 669.7613451067527 \t True\n",
      "336435.20399928093 336435.194549405 \t True\n",
      "1992.7010309766047 1992.691030979018 \t True\n",
      "2978113.174438476 2978113.1587081663 \t True\n",
      "1761.545525828842 1761.5355258314241 \t True\n",
      "2327255.5828094482 2327255.556574644 \t True\n",
      "63.28703558060624 63.27703558060116 \t True\n",
      "3002.9883728275304 3002.987423901499 \t True\n",
      "1643.1964069255628 1643.1864069286635 \t True\n",
      "2025046.2055206296 2025046.1759363485 \t True\n",
      "448.29364143515704 448.2836414354465 \t True\n",
      "150718.67406368256 150718.667383968 \t True\n",
      "1484.6468959120102 1484.6368959114793 \t True\n",
      "1653110.05115509 1653110.0345262545 \t True\n",
      "328.12785897149297 328.1178589718696 \t True\n",
      "80746.00202962756 80745.99703221279 \t True\n",
      "91.55682106552376 91.54682106555079 \t True\n",
      "6285.616710374597 6285.615335405981 \t True\n",
      "716.7628062263248 716.7528062263784 \t True\n",
      "385300.94847083086 385300.93892504124 \t True\n",
      "921.8038467079168 921.793846708531 \t True\n",
      "637277.9339551926 637277.921872283 \t True\n",
      "1386.2343541928567 1386.224354191454 \t True\n",
      "1441213.4885787962 1441213.4701151354 \t True\n",
      "1138.8698752911296 1138.8598752882608 \t True\n",
      "972751.3760328292 972751.3616561947 \t True\n",
      "203.37312988158374 203.3631298813847 \t True\n",
      "31017.42500439286 31017.42194636471 \t True\n",
      "1177.820948837325 1177.8109488388266 \t True\n",
      "1040428.9871454238 1040428.9734034627 \t True\n",
      "616.3110826644697 616.3010826644481 \t True\n",
      "284870.2769726515 284870.2683700282 \t True\n",
      "284.14255224124645 284.13255224140335 \t True\n",
      "60548.48469793796 60548.480432410346 \t True\n",
      "1269.876952690538 1269.8669526956662 \t True\n",
      "1209421.5720891953 1209421.558161433 \t True\n"
     ]
    }
   ],
   "source": [
    "import sys\n",
    "sys.float_info.epsilon # epsilon maszynowy\n",
    "\n",
    "\n",
    "def derivate(epsilon=None):\n",
    "    \"\"\"\n",
    "    Zwraca pochodną funkcji w punkcie, wg. wzoru f'(x) = [f(x+h) - f(x)]/h, \n",
    "    gdzie h jest parametrem dekoratora, jeśli nie zostanie podany, należy przyjąć 1000 * epsilon maszynowy\n",
    "    \"\"\"\n",
    "    if  epsilon == None : \n",
    "        epsilon = sys.float_info.epsilon\n",
    "    def inner(func):\n",
    "        def wrapper(x):\n",
    "            #czemu to nie dziala skoro w pythonie sa function closures??? \n",
    "            # if  epsilon == None :  \n",
    "                # epsilon = sys.float_info.epsilon\n",
    "            return (func(x + epsilon) - func(x)) / epsilon\n",
    "        return wrapper\n",
    "    return inner\n",
    "\n",
    "\n",
    "\n",
    "@derivate(0.01)\n",
    "def f(x):\n",
    "    return x*x\n",
    "\n",
    "@derivate(0.00001)\n",
    "def g(x):\n",
    "    return x*x*x+3\n",
    "\n",
    "def test(a, b, eps=1):\n",
    "    return abs(round(a)-round(b)) < eps\n",
    "\n",
    "print(test(f(100), 200.0))\n",
    "print(round(f(0)) == 0.0)\n",
    "\n",
    "print(test(g(100), 30000.0))\n",
    "print(round(g(0)) == 0.0)\n",
    "\n",
    "from random import random\n",
    "for x in [random()*1000. for _ in range(20)]:\n",
    "    print(f(x), 2*x, '\\t', test(f(x), 2*x))\n",
    "    print(g(x), 3*x**2, '\\t', test(g(x), 3*x**2))"
   ]
  },
  {
   "cell_type": "markdown",
   "metadata": {},
   "source": [
    "## Zadanie 4 (Igor Sieradzki)"
   ]
  },
  {
   "cell_type": "markdown",
   "metadata": {},
   "source": [
    "Dopisz definicje dekoratora _accepts_ wg. instrukcji w _docstringu_"
   ]
  },
  {
   "cell_type": "code",
   "execution_count": 65,
   "metadata": {
    "collapsed": true
   },
   "outputs": [
    {
     "name": "stdout",
     "output_type": "stream",
     "text": [
      "True\n",
      "True\n",
      "True\n",
      "True\n",
      "True\n",
      "True\n",
      "True\n"
     ]
    }
   ],
   "source": [
    "def accepts(*types):\n",
    "    \"\"\"Sprawdza czy udekorowanej funckji zostały podane odpowiednie parametry zdefiniowane \n",
    "       w argumentach dekoratora\"\"\"\n",
    "    def inner(func): \n",
    "        def wraper(*args, **kwargs):  \n",
    "            dTypes = list(types)\n",
    "            fTypes = list(args)\n",
    "            fTypes2 = dict(kwargs)\n",
    "            if len(dTypes) != len(fTypes) + len(fTypes2): \n",
    "                raise TypeError(\"decorator and function have diffrent types\")\n",
    "            i = 0\n",
    "            while i in range(len(fTypes)): \n",
    "                if dTypes[i] != type(fTypes[i]) : \n",
    "                    raise TypeError('\"decorator and function have diffrent types\"')\n",
    "                i += 1 \n",
    "            for v in fTypes2.values() :\n",
    "                if dTypes[i] != type(v) : \n",
    "                    raise TypeError('\"decorator and function have diffrent types\"')\n",
    "                i += 1 \n",
    "            return func(*args,**kwargs)\n",
    "        return wraper\n",
    "    return inner\n",
    "    \n",
    "\n",
    "\n",
    "@accepts(str)\n",
    "def capitalize(word):\n",
    "    return word[0].upper() + word[1:]\n",
    "\n",
    "print(capitalize('ola') == 'Ola')\n",
    "\n",
    "try:\n",
    "    capitalize(2)\n",
    "except TypeError:\n",
    "    print(True)\n",
    "\n",
    "@accepts(float, int)\n",
    "def static_pow(base, exp):\n",
    "    return base ** exp \n",
    "\n",
    "print(static_pow(2., 2) == 4.)\n",
    "print(static_pow(2., exp=2) == 4.)\n",
    "print(static_pow(base=2., exp=2) == 4.)\n",
    "\n",
    "try:\n",
    "    static_pow('x', 10)\n",
    "except TypeError:\n",
    "    print(True)\n",
    "    \n",
    "try:\n",
    "    static_pow(2, 2.2)\n",
    "except TypeError:\n",
    "    print(True)"
   ]
  },
  {
   "cell_type": "markdown",
   "metadata": {},
   "source": []
  },
  {
   "cell_type": "markdown",
   "metadata": {},
   "source": [
    "## Zadanie 5 (Igor Sieradzki)"
   ]
  },
  {
   "cell_type": "markdown",
   "metadata": {},
   "source": [
    "Dopisz definicje dekoratora _returns_ wg. instrukcji w _docstringu_"
   ]
  },
  {
   "cell_type": "code",
   "execution_count": 108,
   "metadata": {
    "collapsed": true
   },
   "outputs": [
    {
     "name": "stdout",
     "output_type": "stream",
     "text": [
      "True\n",
      "True\n",
      "True\n",
      "True\n"
     ]
    }
   ],
   "source": [
    "def returns(*types):\n",
    "    \"\"\"Sprawdza czy udekorowana funkcja zwraca poprawne argumenty, zdefiniowane w parametrach dekoratora\"\"\"\n",
    "    def decorator(func):\n",
    "        def wrapper(*args, **kwargs):\n",
    "            result = func(*args, **kwargs)  # Call the function\n",
    "            if not isinstance(result, tuple):\n",
    "                result = (result,)  # Convert non-tuples to a tuple for comparison\n",
    "            if len(result) != len(types):  # Check number of expected return values\n",
    "                raise TypeError(f\"Expected {len(types)} return values but got {len(result)}.\")\n",
    "            for r, t in zip(result, types):\n",
    "                if not isinstance(r, t):  # Check if each result matches the expected type\n",
    "                    raise TypeError(f\"Expected return type {t.__name__}, but got {type(r).__name__}.\")\n",
    "            if len(result) == 1:\n",
    "                return result[0]  # Return as the original function if it's a single return\n",
    "            return result  # Return the results\n",
    "        return wrapper\n",
    "    return decorator\n",
    "    \n",
    "\n",
    "\n",
    "@returns(str)\n",
    "def str_only_identity(word):\n",
    "    return word\n",
    "\n",
    "print(str_only_identity('hello') == 'hello')\n",
    "\n",
    "try:\n",
    "    str_only_identity(10)\n",
    "except TypeError:\n",
    "    print(True)\n",
    "    \n",
    "@returns(int, int)\n",
    "def split_indices(x):\n",
    "    return x[0], x[1]\n",
    "\n",
    "print(split_indices(x=[6,9]) == (6,9))\n",
    "\n",
    "try:\n",
    "    split_indices('AB')\n",
    "except TypeError:\n",
    "    print(True)"
   ]
  },
  {
   "cell_type": "markdown",
   "metadata": {},
   "source": [
    "## Zadanie 6 (Igor Sieradzki)\n",
    "Stwórz dekorator cached służący do cachowania wywołań dowolnej funkcji, tzn. chcemy by:\n",
    "* wywołanie funkcji z określonymi argumentami miało miejsce tylko raz\n",
    "* funkcja mogła przyjmować dowolną liczbę nazwanych i nienazwanych argumentów\n",
    "* nie musi reagować poprawnie na domyślne argumenty, tzn. wywołanie funkcji z domyślnymi argumentami a podanie dokładnie takich samych może być traktowane jako dwa różne wywołania\n",
    "* na opakowanej funkcji można wywołać `.cache_reset()`, który usunie cache z pamięci\n",
    "* wywołanie `.cache_status()` zwraca string z opisem w postaci: <br>\n",
    "    `Function FUNCTION_NAME called X times, evaluated Y times`"
   ]
  },
  {
   "cell_type": "code",
   "execution_count": 23,
   "metadata": {
    "collapsed": true
   },
   "outputs": [
    {
     "name": "stdout",
     "output_type": "stream",
     "text": [
      "True\n",
      "True\n",
      "True\n",
      "False\n",
      "True\n",
      "False\n"
     ]
    }
   ],
   "source": [
    "from random import random\n",
    "\n",
    "class Decorator : \n",
    "    def __init__(self, func) :\n",
    "        self.callsDict = dict() #key - argumenty, value - wynik \n",
    "        self.func = func\n",
    "        self.functionName = func.__name__\n",
    "        self.counter = 0\n",
    "        self.evaluatedCounter = 0\n",
    "    def __call__(self, *args, **kwargs): \n",
    "        self.counter += 1\n",
    "        tmpList = list()\n",
    "        for arg in args: \n",
    "            tmpList.append(arg)\n",
    "        sortedKwargs = dict(sorted(kwargs.items()))\n",
    "        for key, val in sortedKwargs.items(): \n",
    "            tmpList.append(val)\n",
    "        k = tuple(tmpList)\n",
    "        if k in self.callsDict:\n",
    "            return self.callsDict[k]\n",
    "        else: \n",
    "            self.evaluatedCounter += 1 \n",
    "            self.callsDict[tuple(tmpList)] = self.func(args, kwargs)\n",
    "            res = self.callsDict[tuple(tmpList)]\n",
    "            return res\n",
    "    def cache_status(self): \n",
    "        res = f\"Function {self.functionName} called {self.counter} times, evaluated {self.evaluatedCounter} times\"\n",
    "        return res\n",
    "    def cache_reset(self): \n",
    "        self.counter = 0\n",
    "        self.callsDict = dict()\n",
    "        self.evaluatedCounter = 0\n",
    "\n",
    "\n",
    "def cached(func):\n",
    "    decorator = Decorator(func)\n",
    "    func.cache_status = decorator.cache_status\n",
    "    func.cache_reset = decorator.cache_reset\n",
    "    return decorator\n",
    "\n",
    "\n",
    "\n",
    "\n",
    "@cached\n",
    "def foo(x, y=1, z=4):\n",
    "    return random()\n",
    "        \n",
    "print(foo(3) == foo(3))\n",
    "print(foo(4) == foo(4))\n",
    "print(foo(3, z=-1, y=3) == foo(3, y=3, z=-1))\n",
    "print(foo(3) != foo(x=3))\n",
    "a = foo(3)\n",
    "foo.cache_reset()\n",
    "print(a != foo(3))\n",
    "print(foo.cache_status() == 'Function foo called 10 times, evaluated 5 times')"
   ]
  },
  {
   "cell_type": "markdown",
   "metadata": {},
   "source": [
    "## Zadanie 7 (Krzysztof Hajto)"
   ]
  },
  {
   "cell_type": "markdown",
   "metadata": {},
   "source": [
    "Napisz dekorator który będzie robić n-krotne złożenie funkcji, gdzie n jest parametrem dekoratora"
   ]
  },
  {
   "cell_type": "code",
   "execution_count": null,
   "metadata": {
    "collapsed": true
   },
   "outputs": [
    {
     "name": "stdout",
     "output_type": "stream",
     "text": [
      "True\n",
      "True\n",
      "True\n"
     ]
    }
   ],
   "source": [
    "def zlozenie(n):\n",
    "    def inner(func): \n",
    "        def wraper(x): #czemu nie mozna uzyc *args, **kwargs??? \n",
    "            res = func(x)#func(args, kwargs)\n",
    "            for i in range(1, n, 1):\n",
    "                res = func(res)\n",
    "            return res\n",
    "        return wraper \n",
    "    return inner \n",
    "                \n",
    "\n",
    "@zlozenie(3)\n",
    "def f1(x):\n",
    "    return x+1\n",
    "\n",
    "@zlozenie(2)\n",
    "def f2(x):\n",
    "    return x*x\n",
    "\n",
    "@zlozenie(5)\n",
    "def f3(word):\n",
    "    return \"\".join(chr(ord(l)+1) for l in word)\n",
    "\n",
    "print(f1(2)==5)\n",
    "print(f2(3)==81)\n",
    "print(f3(\"alamakota\")==\"fqfrfptyf\")"
   ]
  },
  {
   "cell_type": "markdown",
   "metadata": {},
   "source": [
    "## Zadanie 8 (Krzysztof Hajto)"
   ]
  },
  {
   "cell_type": "markdown",
   "metadata": {},
   "source": [
    "Python nie ma wbudowanej instrukcji switch. Ale posiada anonimowe funkcje oraz słowniki. Zaimplementuj poniższy switch w postaci słownika funkcji.\n",
    "`\n",
    "int my_function(x, y) {\n",
    "\n",
    "\n",
    "    switch(x) {\n",
    "        case 1: return y*y;\n",
    "        case 2: return x+y;\n",
    "        case 3: return x*y;\n",
    "        case 4: return 0;\n",
    "    }\n",
    "}\n",
    "`\n",
    "\n",
    "PS. Nigdy nie róbcie tego w faktycznym kodzie :)"
   ]
  },
  {
   "cell_type": "code",
   "execution_count": 8,
   "metadata": {
    "collapsed": true
   },
   "outputs": [
    {
     "name": "stdout",
     "output_type": "stream",
     "text": [
      "True\n",
      "True\n",
      "True\n",
      "True\n"
     ]
    }
   ],
   "source": [
    "def my_function(x, y):\n",
    "    switch = {\n",
    "        1 : lambda : y*y,\n",
    "        2 : lambda : x+y,\n",
    "        3 : lambda : x*y,\n",
    "        4 : lambda : 0\n",
    "    }\n",
    "    return switch[x]()\n",
    "\n",
    "print(my_function(1,3)==9)\n",
    "print(my_function(2,4)==6)\n",
    "print(my_function(3,1)==3)\n",
    "print(my_function(4,9)==0)"
   ]
  }
 ],
 "metadata": {
  "kernelspec": {
   "display_name": "Python 3",
   "language": "python",
   "name": "python3"
  },
  "language_info": {
   "codemirror_mode": {
    "name": "ipython",
    "version": 3
   },
   "file_extension": ".py",
   "mimetype": "text/x-python",
   "name": "python",
   "nbconvert_exporter": "python",
   "pygments_lexer": "ipython3",
   "version": "3.12.3"
  }
 },
 "nbformat": 4,
 "nbformat_minor": 2
}
